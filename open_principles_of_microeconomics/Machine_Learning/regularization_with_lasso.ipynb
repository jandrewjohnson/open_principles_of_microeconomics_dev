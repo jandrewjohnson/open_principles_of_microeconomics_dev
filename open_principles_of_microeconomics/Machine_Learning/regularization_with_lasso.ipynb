{
 "cells": [
  {
   "attachments": {},
   "cell_type": "markdown",
   "metadata": {
    "pycharm": {
     "name": "#%% md\n"
    }
   },
   "source": [
    "# Regularization with Lasso\n",
    "\n",
    "## Automatic feature selection with LASSO regression\n",
    "\n",
    "In this notebook we will learn how LASSO (Least Absolute Shrinkage and Selection Operator) regression works and how it can assist in automatically selecting which variables should be included using a **Cross-Validation** perspective.\n",
    "\n",
    "#### Start by importing packages"
   ]
  },
  {
   "cell_type": "code",
   "execution_count": 62,
   "metadata": {
    "pycharm": {
     "name": "#%%\n"
    }
   },
   "outputs": [],
   "source": [
    "import matplotlib.pyplot as plt\n",
    "import numpy as np\n",
    "\n",
    "from sklearn.datasets import load_diabetes\n",
    "from sklearn.feature_selection import SelectFromModel\n",
    "from sklearn import datasets, linear_model\n",
    "from sklearn.linear_model import LassoCV, Lasso\n",
    "from sklearn.model_selection import KFold\n",
    "from sklearn.model_selection import GridSearchCV\n",
    "from sklearn.metrics import mean_squared_error, r2_score\n",
    "\n",
    "import statsmodels\n",
    "from statsmodels.api import OLS"
   ]
  },
  {
   "cell_type": "markdown",
   "metadata": {
    "pycharm": {
     "name": "#%% md\n"
    }
   },
   "source": [
    "#### Load dataset and inspect it\n",
    "\n",
    "Again we're going to use our diabetes dataset. Inspect it again just to remind yourself\n",
    "what is in it."
   ]
  },
  {
   "cell_type": "code",
   "execution_count": 63,
   "metadata": {
    "pycharm": {
     "name": "#%%\n"
    }
   },
   "outputs": [
    {
     "name": "stdout",
     "output_type": "stream",
     "text": [
      ".. _diabetes_dataset:\n",
      "\n",
      "Diabetes dataset\n",
      "----------------\n",
      "\n",
      "Ten baseline variables, age, sex, body mass index, average blood\n",
      "pressure, and six blood serum measurements were obtained for each of n =\n",
      "442 diabetes patients, as well as the response of interest, a\n",
      "quantitative measure of disease progression one year after baseline.\n",
      "\n",
      "**Data Set Characteristics:**\n",
      "\n",
      "  :Number of Instances: 442\n",
      "\n",
      "  :Number of Attributes: First 10 columns are numeric predictive values\n",
      "\n",
      "  :Target: Column 11 is a quantitative measure of disease progression one year after baseline\n",
      "\n",
      "  :Attribute Information:\n",
      "      - age     age in years\n",
      "      - sex\n",
      "      - bmi     body mass index\n",
      "      - bp      average blood pressure\n",
      "      - s1      tc, total serum cholesterol\n",
      "      - s2      ldl, low-density lipoproteins\n",
      "      - s3      hdl, high-density lipoproteins\n",
      "      - s4      tch, total cholesterol / HDL\n",
      "      - s5      ltg, possibly log of serum triglycerides level\n",
      "      - s6      glu, blood sugar level\n",
      "\n",
      "Note: Each of these 10 feature variables have been mean centered and scaled by the standard deviation times the square root of `n_samples` (i.e. the sum of squares of each column totals 1).\n",
      "\n",
      "Source URL:\n",
      "https://www4.stat.ncsu.edu/~boos/var.select/diabetes.html\n",
      "\n",
      "For more information see:\n",
      "Bradley Efron, Trevor Hastie, Iain Johnstone and Robert Tibshirani (2004) \"Least Angle Regression,\" Annals of Statistics (with discussion), 407-499.\n",
      "(https://web.stanford.edu/~hastie/Papers/LARS/LeastAngle_2002.pdf)\n",
      "\n",
      "['age', 'sex', 'bmi', 'bp', 's1', 's2', 's3', 's4', 's5', 's6']\n"
     ]
    }
   ],
   "source": [
    "diabetes = load_diabetes()\n",
    "\n",
    "X = diabetes.data\n",
    "y = diabetes.target\n",
    "\n",
    "feature_names = diabetes.feature_names\n",
    "\n",
    "print(diabetes['DESCR'])\n",
    "print(feature_names)"
   ]
  },
  {
   "cell_type": "markdown",
   "metadata": {
    "pycharm": {
     "name": "#%% md\n"
    }
   },
   "source": [
    "#### Select subset of data\n",
    "\n",
    "To speed up calculation, we're going to just use the first 150 observations\n",
    "using numpy slice notation to grab them out of the X, y"
   ]
  },
  {
   "cell_type": "code",
   "execution_count": 64,
   "metadata": {
    "pycharm": {
     "name": "#%%\n"
    }
   },
   "outputs": [
    {
     "name": "stdout",
     "output_type": "stream",
     "text": [
      "[[ 0.03807591  0.05068012  0.06169621 ... -0.00259226  0.01990749\n",
      "  -0.01764613]\n",
      " [-0.00188202 -0.04464164 -0.05147406 ... -0.03949338 -0.06833155\n",
      "  -0.09220405]\n",
      " [ 0.08529891  0.05068012  0.04445121 ... -0.00259226  0.00286131\n",
      "  -0.02593034]\n",
      " ...\n",
      " [-0.05637009 -0.04464164  0.09295276 ...  0.02545259  0.02606052\n",
      "   0.04034337]\n",
      " [-0.06000263  0.05068012  0.01535029 ... -0.00259226 -0.03074792\n",
      "  -0.0010777 ]\n",
      " [-0.04910502  0.05068012 -0.00512814 ...  0.07120998  0.06123763\n",
      "  -0.03835666]]\n"
     ]
    }
   ],
   "source": [
    "X = X[:150]\n",
    "y = y[:150]\n",
    "\n",
    "print(X)"
   ]
  },
  {
   "cell_type": "markdown",
   "metadata": {},
   "source": [
    "#### Run OLS first (for comparison)\n",
    "\n",
    "Remember the standard Sklearn model steps:\n",
    "\n",
    "1. create the model object\n",
    "2. call the object's fit method.\n",
    "3. use the fitted model to predict something.\n",
    "4. assess the predictions."
   ]
  },
  {
   "cell_type": "code",
   "execution_count": 65,
   "metadata": {},
   "outputs": [
    {
     "name": "stdout",
     "output_type": "stream",
     "text": [
      "Coefficients: \n",
      " [ -67.3322587  -369.98803486  445.91969019  324.49756622   89.12828579\n",
      " -370.37260059 -263.56792004  123.19006966  579.0388831    89.90418524]\n",
      "Mean squared error: 2662.075876125911\n",
      "Coefficient of determination: 0.5298596601593836\n"
     ]
    }
   ],
   "source": [
    "# Create linear regression object\n",
    "model_ols = linear_model.LinearRegression()\n",
    "\n",
    "# Train the model using the training sets\n",
    "model_ols.fit(X, y)\n",
    "\n",
    "# Make predictions using the testing set\n",
    "y_hat = model_ols.predict(X)\n",
    "\n",
    "# The coefficients\n",
    "print(\"Coefficients: \\n\", model_ols.coef_)\n",
    "\n",
    "# The mean squared error\n",
    "print(\"Mean squared error:\", mean_squared_error(y, y_hat))\n",
    "\n",
    "# The coefficient of determination: 1 is perfect prediction\n",
    "print(\"Coefficient of determination:\", r2_score(y, y_hat))\n"
   ]
  },
  {
   "cell_type": "markdown",
   "metadata": {},
   "source": [
    "#### Do it again in the econometrics style\n",
    "\n",
    "Recall that the package statsmodels is closer to the econometrician's way of doing things. We're going to quickly repeat the steps above but with Statsmodels so we can view it in a nice table form."
   ]
  },
  {
   "cell_type": "code",
   "execution_count": 66,
   "metadata": {},
   "outputs": [
    {
     "name": "stdout",
     "output_type": "stream",
     "text": [
      "                            OLS Regression Results                            \n",
      "==============================================================================\n",
      "Dep. Variable:                      y   R-squared:                       0.530\n",
      "Model:                            OLS   Adj. R-squared:                  0.496\n",
      "Method:                 Least Squares   F-statistic:                     15.67\n",
      "Date:                Thu, 29 Dec 2022   Prob (F-statistic):           1.54e-18\n",
      "Time:                        14:05:48   Log-Likelihood:                -804.36\n",
      "No. Observations:                 150   AIC:                             1631.\n",
      "Df Residuals:                     139   BIC:                             1664.\n",
      "Df Model:                          10                                         \n",
      "Covariance Type:            nonrobust                                         \n",
      "==============================================================================\n",
      "                 coef    std err          t      P>|t|      [0.025      0.975]\n",
      "------------------------------------------------------------------------------\n",
      "const        152.9381      4.568     33.483      0.000     143.907     161.969\n",
      "x1           -67.3323    106.167     -0.634      0.527    -277.243     142.579\n",
      "x2          -369.9880    112.515     -3.288      0.001    -592.451    -147.525\n",
      "x3           445.9197    119.643      3.727      0.000     209.365     682.475\n",
      "x4           324.4976    117.440      2.763      0.007      92.298     556.697\n",
      "x5            89.1283    833.489      0.107      0.915   -1558.827    1737.084\n",
      "x6          -370.3726    694.067     -0.534      0.594   -1742.667    1001.922\n",
      "x7          -263.5679    398.014     -0.662      0.509   -1050.513     523.377\n",
      "x8           123.1901    274.716      0.448      0.655    -419.972     666.352\n",
      "x9           579.0389    303.265      1.909      0.058     -20.570    1178.648\n",
      "x10           89.9042    105.344      0.853      0.395    -118.380     298.189\n",
      "==============================================================================\n",
      "Omnibus:                        0.798   Durbin-Watson:                   1.871\n",
      "Prob(Omnibus):                  0.671   Jarque-Bera (JB):                0.431\n",
      "Skew:                          -0.042   Prob(JB):                        0.806\n",
      "Kurtosis:                       3.248   Cond. No.                         266.\n",
      "==============================================================================\n",
      "\n",
      "Notes:\n",
      "[1] Standard Errors assume that the covariance matrix of the errors is correctly specified.\n"
     ]
    }
   ],
   "source": [
    "x_with_constant = statsmodels.api.add_constant(X)\n",
    "result = OLS(y, x_with_constant).fit().summary()\n",
    "\n",
    "print(result)"
   ]
  },
  {
   "cell_type": "markdown",
   "metadata": {},
   "source": [
    "#### Plot y and y_hat\n",
    "\n",
    "Let's also plot y and y_hat compared to one of the most important variables, BMI. We'll see both y and y_hat resemble each other."
   ]
  },
  {
   "cell_type": "code",
   "execution_count": 67,
   "metadata": {},
   "outputs": [
    {
     "data": {
      "text/plain": [
       "<matplotlib.collections.PathCollection at 0x1a2e0cf3b50>"
      ]
     },
     "execution_count": 67,
     "metadata": {},
     "output_type": "execute_result"
    },
    {
     "data": {
      "image/png": "[encoded data removed]",
      "text/plain": [
       "<Figure size 640x480 with 1 Axes>"
      ]
     },
     "metadata": {},
     "output_type": "display_data"
    }
   ],
   "source": [
    "# Plot outputs (comparing 1 variable (BMI in column 3) to y and y_hat\n",
    "plt.scatter(X[:, 3], y, color=\"black\")\n",
    "plt.scatter(X[:, 3], y_hat, color=\"blue\")"
   ]
  },
  {
   "cell_type": "markdown",
   "metadata": {
    "pycharm": {
     "name": "#%% md\n"
    }
   },
   "source": [
    "## Switch to LASSO\n",
    "\n",
    "Now that we've spent all this time setting up our python environment and getting sklearn, it's almost a trivial step in many cases to try out the latest-and-greatest model.\n",
    "\n",
    "#### Create a LASSO model object\n",
    "\n",
    "Today's goal, however, is to do Lasso on this same dataset.\n",
    "To start, lets create a Lasso object. Notice that we are not\n",
    "setting the alpha/gamma value when we create it."
   ]
  },
  {
   "cell_type": "code",
   "execution_count": 68,
   "metadata": {
    "pycharm": {
     "name": "#%%\n"
    }
   },
   "outputs": [
    {
     "name": "stdout",
     "output_type": "stream",
     "text": [
      "Lasso(max_iter=10000, random_state=0)\n"
     ]
    }
   ],
   "source": [
    "model_lasso = Lasso(alpha=1.0, random_state=0, max_iter=10000) # Note, alpha is set by default to 1.0 so we could have omitted it here (though I kept it in to make it clear)\n",
    "print(model_lasso)"
   ]
  },
  {
   "cell_type": "markdown",
   "metadata": {},
   "source": [
    "#### Fit the LASSO\n",
    "\n",
    "Call the lasso.fit() method. "
   ]
  },
  {
   "cell_type": "code",
   "execution_count": 69,
   "metadata": {},
   "outputs": [
    {
     "name": "stdout",
     "output_type": "stream",
     "text": [
      "Lasso(max_iter=10000, random_state=0)\n"
     ]
    }
   ],
   "source": [
    "model_lasso.fit(X, y)\n",
    "print(model_lasso)"
   ]
  },
  {
   "cell_type": "code",
   "execution_count": 70,
   "metadata": {},
   "outputs": [
    {
     "name": "stdout",
     "output_type": "stream",
     "text": [
      "y_hat_lasso [172.63694312 112.56436625 162.13985803 156.08973773 129.74383298\n",
      " 125.28140937 115.61884338 136.59052179 159.6287421  185.05063898\n",
      " 106.82661307 118.62966678 132.01651185 164.27673474 132.32978307\n",
      " 159.52719536 180.05860468 163.52345725 141.12618691 142.73726374\n",
      " 132.32597226 118.12828252 126.6122036  214.79358554 149.32105261\n",
      " 154.5286222  115.96885102 158.72385667 145.06984361 171.08808536\n",
      " 150.95110473 120.84369573 180.56864605 131.55817157 113.02543458\n",
      " 150.9215012  176.31531879 159.41171407 194.18582819 160.99349743\n",
      " 153.08379216 115.57213577 144.18353926 128.89860148 178.86126303\n",
      " 136.35519126 144.6493225  126.12767637 118.19733477 167.06059041\n",
      " 140.67767067 153.45410491 141.38478192 134.18782266 141.05570494\n",
      " 113.76852531 172.85209994 114.2633392  134.72604324 158.58764454\n",
      " 130.25790072 165.17534412 117.92607201 129.94775178 137.1011572\n",
      " 160.31880191 146.17550981 142.41117762 138.4133546  120.17269536\n",
      " 110.18834819 168.45389802 180.95757677 143.6382227  152.37093049\n",
      " 145.2863145  145.72204735 114.03536748 152.50980767 115.92610137\n",
      " 162.78887649 142.77074648 115.74271899 146.82848624 115.40891135\n",
      " 152.17529034  96.39049597 164.92236812 127.76402029 129.58254816\n",
      " 117.3524975  176.77457893 156.18693227 122.55104724 130.97049958\n",
      " 136.93397481 175.47713603 172.74225341 146.90826663 139.35118138\n",
      " 168.49953863 128.13758671 155.27499811 156.22880933 143.1622842\n",
      " 138.64434869 109.92229447 142.60610808 178.34497712 138.46006222\n",
      "  95.66797317 142.68220906 146.5611342  171.24021892 213.87120181\n",
      " 181.99208822 172.64335057 174.81696371 155.57294193 149.30073174\n",
      " 136.6525253  162.03454774 181.96440315 164.55326954 150.19022137\n",
      " 178.46763855 100.6840604  151.64942745 124.00006657 168.88710262\n",
      " 181.94923866 116.17042024 140.48211467 110.62902725 150.69250972\n",
      " 182.86260255 106.01067503 168.7211344  187.55905836 185.62473912\n",
      " 141.42848293 178.66151776 170.32853183 136.40099477 163.90515518\n",
      " 175.27393727 170.22208613 182.43176328 142.61890724 172.02344691]\n"
     ]
    }
   ],
   "source": [
    "y_hat_lasso = model_lasso.predict(X)\n",
    "print('y_hat_lasso', y_hat_lasso)"
   ]
  },
  {
   "cell_type": "markdown",
   "metadata": {},
   "source": [
    "#### Plot it too to compare it with the OLS plot from above\n",
    "\n",
    "What do you see. Is this expected?"
   ]
  },
  {
   "cell_type": "code",
   "execution_count": 71,
   "metadata": {},
   "outputs": [
    {
     "data": {
      "image/png": "[encoded data removed]",
      "text/plain": [
       "<Figure size 640x480 with 1 Axes>"
      ]
     },
     "metadata": {},
     "output_type": "display_data"
    }
   ],
   "source": [
    "# Plot outputs\n",
    "plt.scatter(X[:, 3], y, color=\"black\")\n",
    "plt.scatter(X[:, 3], y_hat_lasso, color=\"blue\")\n",
    "\n",
    "plt.show()"
   ]
  },
  {
   "cell_type": "markdown",
   "metadata": {},
   "source": [
    "#### Compare the actual coefficients created\n",
    "\n",
    "Class question: How are they different? And how are they similar?"
   ]
  },
  {
   "cell_type": "code",
   "execution_count": 72,
   "metadata": {},
   "outputs": [
    {
     "name": "stdout",
     "output_type": "stream",
     "text": [
      "[  0.          -0.         239.9258791    0.          -0.\n",
      "  -0.          -0.           0.         373.07866685   0.        ]\n",
      "[ -67.3322587  -369.98803486  445.91969019  324.49756622   89.12828579\n",
      " -370.37260059 -263.56792004  123.19006966  579.0388831    89.90418524]\n"
     ]
    }
   ],
   "source": [
    "print(model_lasso.coef_)\n",
    "print(model_ols.coef_)"
   ]
  },
  {
   "attachments": {},
   "cell_type": "markdown",
   "metadata": {},
   "source": [
    "## Exercise 1\n",
    "\n",
    "Use a loop to identify the best value of alpha, as measured by r-squared. \n",
    "\n",
    "Write all of the alphas and associated r2 into a dictionary\n",
    "\n",
    "Discussion question for once you're done: what was the optimal alpha and why does this make sense? How does this compare to OLS? Why is it that way?\n",
    "\n",
    "```python\n",
    "# Starter code: keyt parts omitted.\n",
    "scores = {}\n",
    "alphas = np.logspace(-5, -0.05, 30)\n",
    "for SOMETHING in SOMETHING_ELSE:\n",
    "    model_lasso = Lasso(alpha=alpha, random_state=0, max_iter=10000)\n",
    "    # LINE OMIITTED\n",
    "    # LINE OMIITTED\n",
    "    r2 = r2_score(y, y_hat_lasso)\n",
    "    print('R2 for alpha ' + str(alpha) + ': ' + str(r2))\n",
    "    scores.append(r2)\n",
    "\n",
    "# Quick way to get the value from the highest-valued dictionary entry\n",
    "best_alpha = max(scores, key=scores.get)\n",
    "```\n"
   ]
  },
  {
   "attachments": {},
   "cell_type": "markdown",
   "metadata": {},
   "source": [
    "## Exercise 1 Answer"
   ]
  },
  {
   "cell_type": "code",
   "execution_count": 73,
   "metadata": {},
   "outputs": [
    {
     "name": "stdout",
     "output_type": "stream",
     "text": [
      "best_alpha 1e-05\n"
     ]
    }
   ],
   "source": [
    "# Exercise 1 Answer Code\n",
    "scores = {}\n",
    "alphas = np.logspace(-5, -0.05, 30)\n",
    "for alpha in alphas:\n",
    "    model_lasso = Lasso(alpha=alpha, random_state=0, max_iter=10000)\n",
    "    model_lasso.fit(X, y)\n",
    "    y_hat_lasso = model_lasso.predict(X)\n",
    "    r2 = r2_score(y, y_hat_lasso)\n",
    "    scores[alpha] = r2\n",
    "\n",
    "# Quick way to get the value from the highest-valued dictionary entry\n",
    "best_alpha = max(scores, key=scores.get)\n",
    "\n",
    "print('best_alpha', best_alpha)"
   ]
  },
  {
   "cell_type": "markdown",
   "metadata": {
    "pycharm": {
     "name": "#%% md\n"
    }
   },
   "source": [
    "## Operationalizing CV with GridSearch\n",
    "\n",
    "It seems a little weird to be automatically finding the best model. If we were just applying this to the dataset a single time, this would indeed be p-hacking to the extreme. However, showing its performance on UNSEEN data is quite the opposite of p-hacking.\n",
    "\n",
    "Here, we're going to operationalize our method for finding th ebest model by using GridSearch. We are going to test a variety of different alphas, similar to above. Define them here using numpy logspace:"
   ]
  },
  {
   "cell_type": "code",
   "execution_count": 74,
   "metadata": {
    "pycharm": {
     "name": "#%%\n"
    }
   },
   "outputs": [
    {
     "data": {
      "text/plain": [
       "array([0.001     , 0.00121957, 0.00148735, 0.00181393, 0.00221222,\n",
       "       0.00269795, 0.00329034, 0.00401281, 0.0048939 , 0.00596846,\n",
       "       0.00727895, 0.0088772 , 0.01082637, 0.01320352, 0.01610262,\n",
       "       0.01963828, 0.02395027, 0.02920904, 0.03562248, 0.04344412,\n",
       "       0.05298317, 0.06461671, 0.07880463, 0.0961078 , 0.11721023,\n",
       "       0.14294613, 0.17433288, 0.21261123, 0.25929438, 0.31622777])"
      ]
     },
     "execution_count": 74,
     "metadata": {},
     "output_type": "execute_result"
    }
   ],
   "source": [
    "alphas = np.logspace(-3, -0.5, 30)\n",
    "alphas"
   ]
  },
  {
   "cell_type": "markdown",
   "metadata": {
    "pycharm": {
     "name": "#%% md\n"
    }
   },
   "source": [
    "We are going to be passing this range of tuning parameters to a GridSearch function\n",
    "that will test which works best when cross-validation methods are applied.\n",
    "First though, we have to put the alphas into the form the GridSearchCV funciton\n",
    "Expects, which is a list of dictionaries."
   ]
  },
  {
   "cell_type": "code",
   "execution_count": 75,
   "metadata": {
    "pycharm": {
     "name": "#%%\n"
    }
   },
   "outputs": [],
   "source": [
    "tuning_parameters = [{'alpha': alphas}]"
   ]
  },
  {
   "cell_type": "markdown",
   "metadata": {
    "pycharm": {
     "name": "#%% md\n"
    }
   },
   "source": [
    "Recall that CV works by calculating the fit quality of different folds of the training data. Here we will just use 5 folds. GridSearchCV will automatically implement the folding and testing logic."
   ]
  },
  {
   "cell_type": "code",
   "execution_count": 76,
   "metadata": {
    "pycharm": {
     "name": "#%%\n"
    }
   },
   "outputs": [],
   "source": [
    "n_folds = 5"
   ]
  },
  {
   "cell_type": "markdown",
   "metadata": {
    "pycharm": {
     "name": "#%% md\n"
    }
   },
   "source": [
    "#### Create the lasso_cv object from the lasso object\n",
    "\n",
    "Finally, we have all our objects ready to pass to the GridSearchVC function which will Give us back a classifier object. Notice that we're reusing that model_lasso objectg we created above. The difference is that we will be systematically  handing different parameters from the tuning_parameters list into the model_lasso object."
   ]
  },
  {
   "cell_type": "code",
   "execution_count": 77,
   "metadata": {
    "pycharm": {
     "name": "#%%\n"
    }
   },
   "outputs": [],
   "source": [
    "model_lasso_cv = GridSearchCV(model_lasso, tuning_parameters, cv=n_folds, refit=False)"
   ]
  },
  {
   "cell_type": "markdown",
   "metadata": {
    "pycharm": {
     "name": "#%% md\n"
    }
   },
   "source": [
    "#### Fit the lasso_cv object\n",
    "\n",
    "When we call the model_lasso_cv.fit() method, we will iteratively be calling the Lasso.fit() with different permutations of\n",
    "tuned parameters and then will return the classifier with the best CV fit."
   ]
  },
  {
   "cell_type": "code",
   "execution_count": 78,
   "metadata": {
    "pycharm": {
     "name": "#%%\n"
    }
   },
   "outputs": [
    {
     "data": {
      "text/html": [
       "<style>#sk-container-id-4 {color: black;background-color: white;}#sk-container-id-4 pre{padding: 0;}#sk-container-id-4 div.sk-toggleable {background-color: white;}#sk-container-id-4 label.sk-toggleable__label {cursor: pointer;display: block;width: 100%;margin-bottom: 0;padding: 0.3em;box-sizing: border-box;text-align: center;}#sk-container-id-4 label.sk-toggleable__label-arrow:before {content: \"▸\";float: left;margin-right: 0.25em;color: #696969;}#sk-container-id-4 label.sk-toggleable__label-arrow:hover:before {color: black;}#sk-container-id-4 div.sk-estimator:hover label.sk-toggleable__label-arrow:before {color: black;}#sk-container-id-4 div.sk-toggleable__content {max-height: 0;max-width: 0;overflow: hidden;text-align: left;background-color: #f0f8ff;}#sk-container-id-4 div.sk-toggleable__content pre {margin: 0.2em;color: black;border-radius: 0.25em;background-color: #f0f8ff;}#sk-container-id-4 input.sk-toggleable__control:checked~div.sk-toggleable__content {max-height: 200px;max-width: 100%;overflow: auto;}#sk-container-id-4 input.sk-toggleable__control:checked~label.sk-toggleable__label-arrow:before {content: \"▾\";}#sk-container-id-4 div.sk-estimator input.sk-toggleable__control:checked~label.sk-toggleable__label {background-color: #d4ebff;}#sk-container-id-4 div.sk-label input.sk-toggleable__control:checked~label.sk-toggleable__label {background-color: #d4ebff;}#sk-container-id-4 input.sk-hidden--visually {border: 0;clip: rect(1px 1px 1px 1px);clip: rect(1px, 1px, 1px, 1px);height: 1px;margin: -1px;overflow: hidden;padding: 0;position: absolute;width: 1px;}#sk-container-id-4 div.sk-estimator {font-family: monospace;background-color: #f0f8ff;border: 1px dotted black;border-radius: 0.25em;box-sizing: border-box;margin-bottom: 0.5em;}#sk-container-id-4 div.sk-estimator:hover {background-color: #d4ebff;}#sk-container-id-4 div.sk-parallel-item::after {content: \"\";width: 100%;border-bottom: 1px solid gray;flex-grow: 1;}#sk-container-id-4 div.sk-label:hover label.sk-toggleable__label {background-color: #d4ebff;}#sk-container-id-4 div.sk-serial::before {content: \"\";position: absolute;border-left: 1px solid gray;box-sizing: border-box;top: 0;bottom: 0;left: 50%;z-index: 0;}#sk-container-id-4 div.sk-serial {display: flex;flex-direction: column;align-items: center;background-color: white;padding-right: 0.2em;padding-left: 0.2em;position: relative;}#sk-container-id-4 div.sk-item {position: relative;z-index: 1;}#sk-container-id-4 div.sk-parallel {display: flex;align-items: stretch;justify-content: center;background-color: white;position: relative;}#sk-container-id-4 div.sk-item::before, #sk-container-id-4 div.sk-parallel-item::before {content: \"\";position: absolute;border-left: 1px solid gray;box-sizing: border-box;top: 0;bottom: 0;left: 50%;z-index: -1;}#sk-container-id-4 div.sk-parallel-item {display: flex;flex-direction: column;z-index: 1;position: relative;background-color: white;}#sk-container-id-4 div.sk-parallel-item:first-child::after {align-self: flex-end;width: 50%;}#sk-container-id-4 div.sk-parallel-item:last-child::after {align-self: flex-start;width: 50%;}#sk-container-id-4 div.sk-parallel-item:only-child::after {width: 0;}#sk-container-id-4 div.sk-dashed-wrapped {border: 1px dashed gray;margin: 0 0.4em 0.5em 0.4em;box-sizing: border-box;padding-bottom: 0.4em;background-color: white;}#sk-container-id-4 div.sk-label label {font-family: monospace;font-weight: bold;display: inline-block;line-height: 1.2em;}#sk-container-id-4 div.sk-label-container {text-align: center;}#sk-container-id-4 div.sk-container {/* jupyter's `normalize.less` sets `[hidden] { display: none; }` but bootstrap.min.css set `[hidden] { display: none !important; }` so we also need the `!important` here to be able to override the default hidden behavior on the sphinx rendered scikit-learn.org. See: https://github.com/scikit-learn/scikit-learn/issues/21755 */display: inline-block !important;position: relative;}#sk-container-id-4 div.sk-text-repr-fallback {display: none;}</style><div id=\"sk-container-id-4\" class=\"sk-top-container\"><div class=\"sk-text-repr-fallback\"><pre>GridSearchCV(cv=5,\n",
       "             estimator=Lasso(alpha=0.8912509381337456, max_iter=10000,\n",
       "                             random_state=0),\n",
       "             param_grid=[{&#x27;alpha&#x27;: array([0.001     , 0.00121957, 0.00148735, 0.00181393, 0.00221222,\n",
       "       0.00269795, 0.00329034, 0.00401281, 0.0048939 , 0.00596846,\n",
       "       0.00727895, 0.0088772 , 0.01082637, 0.01320352, 0.01610262,\n",
       "       0.01963828, 0.02395027, 0.02920904, 0.03562248, 0.04344412,\n",
       "       0.05298317, 0.06461671, 0.07880463, 0.0961078 , 0.11721023,\n",
       "       0.14294613, 0.17433288, 0.21261123, 0.25929438, 0.31622777])}],\n",
       "             refit=False)</pre><b>In a Jupyter environment, please rerun this cell to show the HTML representation or trust the notebook. <br />On GitHub, the HTML representation is unable to render, please try loading this page with nbviewer.org.</b></div><div class=\"sk-container\" hidden><div class=\"sk-item sk-dashed-wrapped\"><div class=\"sk-label-container\"><div class=\"sk-label sk-toggleable\"><input class=\"sk-toggleable__control sk-hidden--visually\" id=\"sk-estimator-id-10\" type=\"checkbox\" ><label for=\"sk-estimator-id-10\" class=\"sk-toggleable__label sk-toggleable__label-arrow\">GridSearchCV</label><div class=\"sk-toggleable__content\"><pre>GridSearchCV(cv=5,\n",
       "             estimator=Lasso(alpha=0.8912509381337456, max_iter=10000,\n",
       "                             random_state=0),\n",
       "             param_grid=[{&#x27;alpha&#x27;: array([0.001     , 0.00121957, 0.00148735, 0.00181393, 0.00221222,\n",
       "       0.00269795, 0.00329034, 0.00401281, 0.0048939 , 0.00596846,\n",
       "       0.00727895, 0.0088772 , 0.01082637, 0.01320352, 0.01610262,\n",
       "       0.01963828, 0.02395027, 0.02920904, 0.03562248, 0.04344412,\n",
       "       0.05298317, 0.06461671, 0.07880463, 0.0961078 , 0.11721023,\n",
       "       0.14294613, 0.17433288, 0.21261123, 0.25929438, 0.31622777])}],\n",
       "             refit=False)</pre></div></div></div><div class=\"sk-parallel\"><div class=\"sk-parallel-item\"><div class=\"sk-item\"><div class=\"sk-label-container\"><div class=\"sk-label sk-toggleable\"><input class=\"sk-toggleable__control sk-hidden--visually\" id=\"sk-estimator-id-11\" type=\"checkbox\" ><label for=\"sk-estimator-id-11\" class=\"sk-toggleable__label sk-toggleable__label-arrow\">estimator: Lasso</label><div class=\"sk-toggleable__content\"><pre>Lasso(alpha=0.8912509381337456, max_iter=10000, random_state=0)</pre></div></div></div><div class=\"sk-serial\"><div class=\"sk-item\"><div class=\"sk-estimator sk-toggleable\"><input class=\"sk-toggleable__control sk-hidden--visually\" id=\"sk-estimator-id-12\" type=\"checkbox\" ><label for=\"sk-estimator-id-12\" class=\"sk-toggleable__label sk-toggleable__label-arrow\">Lasso</label><div class=\"sk-toggleable__content\"><pre>Lasso(alpha=0.8912509381337456, max_iter=10000, random_state=0)</pre></div></div></div></div></div></div></div></div></div></div>"
      ],
      "text/plain": [
       "GridSearchCV(cv=5,\n",
       "             estimator=Lasso(alpha=0.8912509381337456, max_iter=10000,\n",
       "                             random_state=0),\n",
       "             param_grid=[{'alpha': array([0.001     , 0.00121957, 0.00148735, 0.00181393, 0.00221222,\n",
       "       0.00269795, 0.00329034, 0.00401281, 0.0048939 , 0.00596846,\n",
       "       0.00727895, 0.0088772 , 0.01082637, 0.01320352, 0.01610262,\n",
       "       0.01963828, 0.02395027, 0.02920904, 0.03562248, 0.04344412,\n",
       "       0.05298317, 0.06461671, 0.07880463, 0.0961078 , 0.11721023,\n",
       "       0.14294613, 0.17433288, 0.21261123, 0.25929438, 0.31622777])}],\n",
       "             refit=False)"
      ]
     },
     "execution_count": 78,
     "metadata": {},
     "output_type": "execute_result"
    }
   ],
   "source": [
    "model_lasso_cv.fit(X, y)"
   ]
  },
  {
   "cell_type": "markdown",
   "metadata": {
    "pycharm": {
     "name": "#%% md\n"
    }
   },
   "source": [
    "The classifier object now has a variety of diagnostic metrics, reporting back on different folds within the Cross Validation. Take a look at them below."
   ]
  },
  {
   "cell_type": "code",
   "execution_count": 79,
   "metadata": {
    "pycharm": {
     "name": "#%%\n"
    }
   },
   "outputs": [
    {
     "name": "stdout",
     "output_type": "stream",
     "text": [
      "model_lasso_cv keys returned: dict_keys(['mean_fit_time', 'std_fit_time', 'mean_score_time', 'std_score_time', 'param_alpha', 'params', 'split0_test_score', 'split1_test_score', 'split2_test_score', 'split3_test_score', 'split4_test_score', 'mean_test_score', 'std_test_score', 'rank_test_score'])\n"
     ]
    }
   ],
   "source": [
    "print('model_lasso_cv keys returned:', model_lasso_cv.cv_results_.keys())"
   ]
  },
  {
   "cell_type": "markdown",
   "metadata": {
    "pycharm": {
     "name": "#%% md\n"
    }
   },
   "source": [
    "Some relevant results are as below, which we'll extract and assign to lists."
   ]
  },
  {
   "cell_type": "code",
   "execution_count": 80,
   "metadata": {
    "pycharm": {
     "name": "#%%\n"
    }
   },
   "outputs": [
    {
     "name": "stdout",
     "output_type": "stream",
     "text": [
      "scores [0.39984741 0.40067546 0.40167546 0.40287999 0.40432758 0.4056638\n",
      " 0.40723916 0.40908292 0.41123606 0.41372907 0.41687352 0.41965693\n",
      " 0.42092208 0.42175014 0.42260226 0.42355228 0.42456133 0.42570452\n",
      " 0.42696662 0.42907498 0.4315905  0.43258464 0.43298746 0.43209091\n",
      " 0.42958333 0.42560295 0.41929547 0.40929219 0.39589098 0.37593936]\n",
      "scores_std [0.11754727 0.11729368 0.11699041 0.11662935 0.11620183 0.11559979\n",
      " 0.11487707 0.11400269 0.11298083 0.11180212 0.11051429 0.10929125\n",
      " 0.10826799 0.10702882 0.10566315 0.10406309 0.10222666 0.10004269\n",
      " 0.0974447  0.09440138 0.09082211 0.08770956 0.08378049 0.07835987\n",
      " 0.07219072 0.06557553 0.05779547 0.0494723  0.04611854 0.04981942]\n"
     ]
    }
   ],
   "source": [
    "scores = model_lasso_cv.cv_results_['mean_test_score']\n",
    "scores_std = model_lasso_cv.cv_results_['std_test_score']\n",
    "\n",
    "print('scores', scores)\n",
    "print('scores_std', scores_std)"
   ]
  },
  {
   "attachments": {},
   "cell_type": "markdown",
   "metadata": {
    "pycharm": {
     "name": "#%% md\n"
    }
   },
   "source": [
    "## Exercise 2: \n",
    "\n",
    "With your table, explore the scores and alphas lists we've created. Identify which alpha is the best, based on the MSE score returned. A challenge here is that sklearn gave us the scores as a list rather than a dictionary (as we built above), so you will need to use the list to create the dictionary.\n",
    "\n",
    "One way to consider doing this would be to create a for loop to iterate through a range(len(scores)): object, saving the alphas and scores to a new dictionary, as in the starter code below. \n",
    "\n",
    "Save the optimal alpha as a new variable called chosen_alpha.\n",
    "```python\n",
    "output_dict = {}\n",
    "for i in OMITTED_CODE:\n",
    "    output_dict[alphas[i]] = scores[i]\n",
    "    \n",
    "best_alpha = max(output_dict, key=output_dict.get)\n",
    "\n",
    "print('best_alpha', best_alpha)\n",
    "```"
   ]
  },
  {
   "attachments": {},
   "cell_type": "markdown",
   "metadata": {},
   "source": [
    "## Exercise 2 Answer"
   ]
  },
  {
   "cell_type": "code",
   "execution_count": 81,
   "metadata": {
    "pycharm": {
     "name": "#%%\n"
    }
   },
   "outputs": [
    {
     "name": "stdout",
     "output_type": "stream",
     "text": [
      "best_alpha 0.07880462815669913\n"
     ]
    }
   ],
   "source": [
    "# Exercise 2 Code\n",
    "\n",
    "output_dict = {}\n",
    "for i in range(len(scores)):\n",
    "    output_dict[alphas[i]] = scores[i]\n",
    "    \n",
    "best_alpha = max(output_dict, key=output_dict.get)\n",
    "\n",
    "print('best_alpha', best_alpha)\n",
    "\n"
   ]
  },
  {
   "cell_type": "markdown",
   "metadata": {
    "pycharm": {
     "name": "#%% md\n"
    }
   },
   "source": [
    "#### Use the built-in attributes to get the best alpha\n",
    "\n",
    "Fortunately, the authors provide a useful  best_params_ attribute."
   ]
  },
  {
   "cell_type": "code",
   "execution_count": 82,
   "metadata": {
    "pycharm": {
     "name": "#%%\n"
    }
   },
   "outputs": [
    {
     "name": "stdout",
     "output_type": "stream",
     "text": [
      "best_parameters: {'alpha': 0.07880462815669913}\n"
     ]
    }
   ],
   "source": [
    "print('best_parameters:', model_lasso_cv.best_params_)"
   ]
  },
  {
   "cell_type": "markdown",
   "metadata": {
    "pycharm": {
     "name": "#%% md\n"
    }
   },
   "source": [
    "Extract the best alpha, which we will use later."
   ]
  },
  {
   "cell_type": "code",
   "execution_count": 83,
   "metadata": {
    "pycharm": {
     "name": "#%%\n"
    }
   },
   "outputs": [
    {
     "name": "stdout",
     "output_type": "stream",
     "text": [
      "chosen_alpha 0.07880462815669913\n"
     ]
    }
   ],
   "source": [
    "chosen_alpha = model_lasso_cv.best_params_['alpha']\n",
    "print('chosen_alpha', chosen_alpha)"
   ]
  },
  {
   "cell_type": "markdown",
   "metadata": {
    "pycharm": {
     "name": "#%% md\n"
    }
   },
   "source": [
    "#### Rerun LASSO with the best alpha\n",
    "\n",
    "Now we can rerun a vanilla (no CV) version of Lasso with that specific alpha.\n",
    "This will return, for instance, a .coef_ list."
   ]
  },
  {
   "cell_type": "code",
   "execution_count": 84,
   "metadata": {
    "pycharm": {
     "name": "#%%\n"
    }
   },
   "outputs": [
    {
     "name": "stdout",
     "output_type": "stream",
     "text": [
      "coefficients [ -26.87410362 -318.07808453  427.47324303  272.29570713   -0.\n",
      " -181.31265355 -262.37184106    0.          613.14932629   71.09561387]\n"
     ]
    }
   ],
   "source": [
    "model_lasso_cv_2 = Lasso(alpha=chosen_alpha, random_state=0, max_iter=10000).fit(X, y)\n",
    "\n",
    "print(\"coefficients\", model_lasso_cv_2.coef_)"
   ]
  },
  {
   "cell_type": "markdown",
   "metadata": {
    "pycharm": {
     "name": "#%% md\n"
    }
   },
   "source": [
    "Simply looking at the coefficients tells us which are to be included.\n",
    "Question: How will we know just by looking?\n",
    "\n",
    "#### Extract the feature names and colum indices of the features that Lasso has selected."
   ]
  },
  {
   "cell_type": "code",
   "execution_count": 85,
   "metadata": {
    "pycharm": {
     "name": "#%%\n"
    }
   },
   "outputs": [
    {
     "name": "stdout",
     "output_type": "stream",
     "text": [
      "Coefficient age was -26.874103620938673\n",
      "Coefficient sex was -318.0780845318727\n",
      "Coefficient bmi was 427.4732430327188\n",
      "Coefficient bp was 272.2957071277454\n",
      "Coefficient s1 was -0.0\n",
      "Coefficient s2 was -181.31265355198863\n",
      "Coefficient s3 was -262.371841059376\n",
      "Coefficient s4 was 0.0\n",
      "Coefficient s5 was 613.1493262893765\n",
      "Coefficient s6 was 71.09561386767885\n"
     ]
    }
   ],
   "source": [
    "selected_coefficient_labels = []\n",
    "selected_coefficient_indices = []\n",
    "for i in range(len(model_lasso_cv_2.coef_)):\n",
    "    print('Coefficient', feature_names[i], 'was', model_lasso_cv_2.coef_[i])\n",
    "    if abs(model_lasso_cv_2.coef_[i]) > 0:\n",
    "        selected_coefficient_labels.append(feature_names[i])\n",
    "        selected_coefficient_indices.append(i)"
   ]
  },
  {
   "cell_type": "markdown",
   "metadata": {
    "pycharm": {
     "name": "#%% md\n"
    }
   },
   "source": [
    "This process led us to the following selected_coefficient_labels:"
   ]
  },
  {
   "cell_type": "code",
   "execution_count": 86,
   "metadata": {
    "pycharm": {
     "name": "#%%\n"
    }
   },
   "outputs": [
    {
     "name": "stdout",
     "output_type": "stream",
     "text": [
      "selected_coefficient_labels ['age', 'sex', 'bmi', 'bp', 's2', 's3', 's5', 's6']\n"
     ]
    }
   ],
   "source": [
    "print('selected_coefficient_labels', selected_coefficient_labels)"
   ]
  },
  {
   "cell_type": "markdown",
   "metadata": {
    "pycharm": {
     "name": "#%% md\n"
    }
   },
   "source": [
    "#### Plot the scores versus the alphas\n",
    "\n",
    "For fun, let's plot the alphas, scores and a confidence range.\n",
    "What does this show us about the optimal alpha and how it varies with score?"
   ]
  },
  {
   "cell_type": "code",
   "execution_count": 87,
   "metadata": {
    "pycharm": {
     "name": "#%%\n"
    }
   },
   "outputs": [
    {
     "data": {
      "text/plain": [
       "[<matplotlib.lines.Line2D at 0x1a2e1ef62c0>]"
      ]
     },
     "execution_count": 87,
     "metadata": {},
     "output_type": "execute_result"
    },
    {
     "data": {
      "image/png": "[encoded data removed]",
      "text/plain": [
       "<Figure size 800x600 with 1 Axes>"
      ]
     },
     "metadata": {},
     "output_type": "display_data"
    }
   ],
   "source": [
    "plt.figure().set_size_inches(8, 6)\n",
    "plt.semilogx(alphas, scores)"
   ]
  },
  {
   "cell_type": "markdown",
   "metadata": {
    "pycharm": {
     "name": "#%% md\n"
    }
   },
   "source": [
    "A fun aspect of the k-fold approach is you can get a measure of the std_errors involved. Plot those below. "
   ]
  },
  {
   "cell_type": "code",
   "execution_count": 88,
   "metadata": {
    "pycharm": {
     "name": "#%%\n"
    }
   },
   "outputs": [
    {
     "data": {
      "text/plain": [
       "[<matplotlib.lines.Line2D at 0x1a2e1e8a260>]"
      ]
     },
     "execution_count": 88,
     "metadata": {},
     "output_type": "execute_result"
    },
    {
     "data": {
      "image/png": "[encoded data removed]",
      "text/plain": [
       "<Figure size 640x480 with 1 Axes>"
      ]
     },
     "metadata": {},
     "output_type": "display_data"
    }
   ],
   "source": [
    "std_error = scores_std / np.sqrt(n_folds)\n",
    "\n",
    "plt.semilogx(alphas, scores + std_error, 'b--')\n",
    "plt.semilogx(alphas, scores - std_error, 'b--')"
   ]
  },
  {
   "cell_type": "markdown",
   "metadata": {
    "pycharm": {
     "name": "#%% md\n"
    }
   },
   "source": [
    "#### Plot the confidence band and the maximum score\n",
    "\n",
    "alpha=0.2 controls the translucency of the fill color"
   ]
  },
  {
   "cell_type": "code",
   "execution_count": 89,
   "metadata": {
    "pycharm": {
     "name": "#%%\n"
    }
   },
   "outputs": [
    {
     "data": {
      "image/png": "[encoded data removed]",
      "text/plain": [
       "<Figure size 640x480 with 1 Axes>"
      ]
     },
     "metadata": {},
     "output_type": "display_data"
    }
   ],
   "source": [
    "plt.fill_between(alphas, scores + std_error, scores - std_error, alpha=0.2)\n",
    "\n",
    "plt.ylabel('CV score +/- std error')\n",
    "plt.xlabel('alpha')\n",
    "plt.axhline(np.max(scores), linestyle='--', color='.5')\n",
    "plt.xlim([alphas[0], alphas[-1]])\n",
    "\n",
    "plt.show()"
   ]
  },
  {
   "cell_type": "markdown",
   "metadata": {},
   "source": [
    "## Switch back to slides\n"
   ]
  },
  {
   "cell_type": "markdown",
   "metadata": {},
   "source": [
    "\n",
    "\n",
    "## Post-LASSO\n",
    "\n",
    "Finally, now that we have our selected labels, we can use them to select the numpy array columns that we want to use for a post-LASSO run."
   ]
  },
  {
   "cell_type": "code",
   "execution_count": 90,
   "metadata": {
    "pycharm": {
     "name": "#%%\n"
    }
   },
   "outputs": [
    {
     "name": "stdout",
     "output_type": "stream",
     "text": [
      "new_x [[ 1.          0.03807591  0.05068012 ... -0.04340085  0.01990749\n",
      "  -0.01764613]\n",
      " [ 1.         -0.00188202 -0.04464164 ...  0.07441156 -0.06833155\n",
      "  -0.09220405]\n",
      " [ 1.          0.08529891  0.05068012 ... -0.03235593  0.00286131\n",
      "  -0.02593034]\n",
      " ...\n",
      " [ 1.         -0.05637009 -0.04464164 ... -0.02867429  0.02606052\n",
      "   0.04034337]\n",
      " [ 1.         -0.06000263  0.05068012 ...  0.019187   -0.03074792\n",
      "  -0.0010777 ]\n",
      " [ 1.         -0.04910502  0.05068012 ... -0.06917231  0.06123763\n",
      "  -0.03835666]]\n"
     ]
    }
   ],
   "source": [
    "new_x = X[:, selected_coefficient_indices]\n",
    "new_x = statsmodels.api.add_constant(new_x)\n",
    "print('new_x', new_x)"
   ]
  },
  {
   "cell_type": "markdown",
   "metadata": {},
   "source": [
    "Plug this new x matrix into our statsmodels OLS function and print that out."
   ]
  },
  {
   "cell_type": "code",
   "execution_count": 91,
   "metadata": {
    "pycharm": {
     "name": "#%%\n"
    }
   },
   "outputs": [
    {
     "name": "stdout",
     "output_type": "stream",
     "text": [
      "                            OLS Regression Results                            \n",
      "==============================================================================\n",
      "Dep. Variable:                      y   R-squared:                       0.529\n",
      "Model:                            OLS   Adj. R-squared:                  0.502\n",
      "Method:                 Least Squares   F-statistic:                     19.79\n",
      "Date:                Thu, 29 Dec 2022   Prob (F-statistic):           8.67e-20\n",
      "Time:                        14:05:51   Log-Likelihood:                -804.49\n",
      "No. Observations:                 150   AIC:                             1627.\n",
      "Df Residuals:                     141   BIC:                             1654.\n",
      "Df Model:                           8                                         \n",
      "Covariance Type:            nonrobust                                         \n",
      "==============================================================================\n",
      "                 coef    std err          t      P>|t|      [0.025      0.975]\n",
      "------------------------------------------------------------------------------\n",
      "const        152.8679      4.503     33.944      0.000     143.965     161.771\n",
      "x1           -66.9996    105.470     -0.635      0.526    -275.506     141.507\n",
      "x2          -366.0229    111.491     -3.283      0.001    -586.432    -145.614\n",
      "x3           444.0490    118.802      3.738      0.000     209.186     678.912\n",
      "x4           318.1611    115.915      2.745      0.007      89.005     547.317\n",
      "x5          -231.1543    104.191     -2.219      0.028    -437.132     -25.177\n",
      "x6          -296.7442    110.058     -2.696      0.008    -514.321     -79.168\n",
      "x7           635.5421    123.804      5.133      0.000     390.790     880.294\n",
      "x8            98.0388    103.296      0.949      0.344    -106.171     302.248\n",
      "==============================================================================\n",
      "Omnibus:                        0.803   Durbin-Watson:                   1.880\n",
      "Prob(Omnibus):                  0.669   Jarque-Bera (JB):                0.437\n",
      "Skew:                          -0.051   Prob(JB):                        0.804\n",
      "Kurtosis:                       3.244   Cond. No.                         35.8\n",
      "==============================================================================\n",
      "\n",
      "Notes:\n",
      "[1] Standard Errors assume that the covariance matrix of the errors is correctly specified.\n"
     ]
    }
   ],
   "source": [
    "result = OLS(y, new_x).fit().summary()\n",
    "print(result)"
   ]
  },
  {
   "cell_type": "markdown",
   "metadata": {},
   "source": [
    "## Class discussion\n",
    "\n",
    "How does the r-squared of this model compare to the one we did at the start of the lecture?\n",
    "\n",
    "Given the above, how is the LASSO approach better than a vanilla OLS?\n",
    "\n",
    "Look at the adjusted R-squared. How does that compare across models. In what ways is the adjusted R-squared similar the CV approach?\n",
    "\n",
    "\n"
   ]
  }
 ],
 "metadata": {
  "kernelspec": {
   "display_name": "Python 3.10.6 ('8222env1')",
   "language": "python",
   "name": "python3"
  },
  "language_info": {
   "codemirror_mode": {
    "name": "ipython",
    "version": 3
   },
   "file_extension": ".py",
   "mimetype": "text/x-python",
   "name": "python",
   "nbconvert_exporter": "python",
   "pygments_lexer": "ipython3",
   "version": "3.10.8 | packaged by conda-forge | (main, Nov 22 2022, 08:16:33) [MSC v.1929 64 bit (AMD64)]"
  },
  "vscode": {
   "interpreter": {
    "hash": "0db313e0ad7b6749a6d098fb61fddaded88cbd823278030b75fa0893942c8f77"
   }
  }
 },
 "nbformat": 4,
 "nbformat_minor": 1
}

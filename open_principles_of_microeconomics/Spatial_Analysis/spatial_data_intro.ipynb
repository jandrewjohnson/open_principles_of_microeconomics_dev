{
 "cells": [
  {
   "attachments": {},
   "cell_type": "markdown",
   "metadata": {},
   "source": [
    "# Python for Big, Spatial Data\n",
    "\n",
    "\n",
    "\n",
    "Random python\\-related tweet\n",
    "\n",
    "\n",
    "\n",
    "![](img\\\\1213.png)\n",
    "\n",
    "\n",
    "\n",
    "# Lecture 3 (of Justin's lectures)\n",
    "\n",
    "\n",
    "\n",
    "While we're waiting, go ahead and get the lecture slides which I've just uploaded to canvas. Also pull the latest code from our repository.\n",
    "\n",
    "\n",
    "\n",
    "# Overview for today\n",
    "\n",
    "\n",
    "\n",
    "* Yesterday\\, we connected to GitHub and gave a brutally quick introduction to Python\\.\n",
    "\n",
    "* Today we're going to:\n",
    "\n",
    "  * Pickup where we left off\n",
    "\n",
    "  * Learn more about Numpy\n",
    "\n",
    "  * Learn about spatial data in Python\n",
    "\n",
    "  * Do raster\\-math \"at scale\"\n",
    "\n",
    "  * If there's time\\, start into our first Machine Learning model\n",
    "\n",
    "\n",
    "\n",
    "# Introduction to big and spatial data\n",
    "\n",
    "\n",
    "\n",
    "![](img\\\\1214.png)\n",
    "\n",
    "\n",
    "\n",
    "* Example from recent publication in Ecological Economics\n",
    "\n",
    "  * Combined both econometrics and \"big\\-data array manipulation\"\n",
    "\n",
    "\n",
    "\n",
    "![](img\\\\1215.png)\n",
    "\n",
    "\n"
   ]
  }
 ],
 "metadata": {
  "kernelspec": {
   "display_name": "Python 3.10.6 ('8222env1')",
   "language": "python",
   "name": "python3"
  },
  "language_info": {
   "codemirror_mode": {
    "name": "ipython",
    "version": 3
   },
   "file_extension": ".py",
   "mimetype": "text/x-python",
   "name": "python",
   "nbconvert_exporter": "python",
   "pygments_lexer": "ipython3",
   "version": "3.10.8 | packaged by conda-forge | (main, Nov 22 2022, 08:16:33) [MSC v.1929 64 bit (AMD64)]"
  },
  "vscode": {
   "interpreter": {
    "hash": "0db313e0ad7b6749a6d098fb61fddaded88cbd823278030b75fa0893942c8f77"
   }
  }
 },
 "nbformat": 4,
 "nbformat_minor": 4
}

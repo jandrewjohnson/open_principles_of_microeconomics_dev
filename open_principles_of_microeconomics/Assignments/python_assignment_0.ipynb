{
 "cells": [
  {
   "cell_type": "markdown",
   "metadata": {},
   "source": [
    "# Python Assignment 0\n",
    "\n",
    "You will submit the results of this code into the assignment page listed on Canvas. This will prove to me you’ve done everything you need to and we’ll be ready to dive into Machine Learning!. If you’re auditing this course, just email me your github name and the output of the assignment below.\n",
    "\n",
    "Assignment:\n",
    "1. Open a terminal to run Python. If you’re on Windows, you can do this in the start menu by searching for or finding “Miniforge Prompt”. On mac, you can just use the built in terminal.\n",
    "2. Enter the following text into the terminal, one line at a time:\n",
    "\tmamba init\n",
    "\tmamba activate 8222env1\n",
    "\tpython\n",
    "\timport hazelbean\n",
    "\tprint(hazelbean)\n",
    "3. Copy and paste the last line of output from these commands into the Canvas assignment, along with your GitHub username. If everything was done correctly, the outline line should start with “<module ‘hazelbean’ ”.\n",
    "4. Celebrate!\n",
    "\n",
    "## Optional More\n",
    "\n",
    "If you're looking for more, here is one extra task: Run this notebook in VS Code! We'll talk more about VS Code in the next class, so don't worry if this doesn't make sense. If you do want to run this, open it and then select \"Run All\" at the top of the editor. It will automatically output how well you did (worth no class credit). "
   ]
  },
  {
   "cell_type": "code",
   "execution_count": 1,
   "metadata": {},
   "outputs": [
    {
     "name": "stdout",
     "output_type": "stream",
     "text": [
      "Hazelbean library imported successfully: <module 'hazelbean' from 'c:\\\\Users\\\\jajohns\\\\AppData\\\\Local\\\\mambaforge\\\\envs\\\\8222env1\\\\lib\\\\site-packages\\\\hazelbean\\\\__init__.py'>\n",
      "Autograding output: 100%\n"
     ]
    }
   ],
   "source": [
    "import numpy as np\n",
    "import pandas as pd\n",
    "import sklearn\n",
    "from osgeo import gdal\n",
    "import hazelbean as hb\n",
    "\n",
    "def autograde():\n",
    "    \n",
    "    if len(str(hb.__name__)) == 9:\n",
    "        return '100%'\n",
    "    else:\n",
    "        return \"0%. Keep trying! Feel free to email me in advance of the first Python lecture. Don't save this for teh last day!\"\n",
    "\n",
    "print('Hazelbean library imported successfully:', hb)\n",
    "\n",
    "print('Autograding output:', autograde())"
   ]
  }
 ],
 "metadata": {
  "kernelspec": {
   "display_name": "Python 3.10.6 ('8222env1')",
   "language": "python",
   "name": "python3"
  },
  "language_info": {
   "codemirror_mode": {
    "name": "ipython",
    "version": 3
   },
   "file_extension": ".py",
   "mimetype": "text/x-python",
   "name": "python",
   "nbconvert_exporter": "python",
   "pygments_lexer": "ipython3",
   "version": "3.10.6"
  },
  "orig_nbformat": 4,
  "vscode": {
   "interpreter": {
    "hash": "0db313e0ad7b6749a6d098fb61fddaded88cbd823278030b75fa0893942c8f77"
   }
  }
 },
 "nbformat": 4,
 "nbformat_minor": 2
}

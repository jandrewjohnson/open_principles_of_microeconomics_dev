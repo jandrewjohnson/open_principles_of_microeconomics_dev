{
 "cells": [
  {
   "attachments": {},
   "cell_type": "markdown",
   "metadata": {},
   "source": [
    "# Python Basics\n",
    "\n",
    "- This notebook contains a very accelerated summary of the basics of python. If this is challenging, please refer to the textbook sections.\n",
    "- Being able to successfully run this also means you have a working Python environment! You now have installed everything you need to run this course.\n",
    "\n",
    "\n",
    "## Python Basics"
   ]
  },
  {
   "cell_type": "code",
   "execution_count": 1,
   "metadata": {},
   "outputs": [],
   "source": [
    "# Comments: The hashtag makes the rest of the line a comment. The more programming you do, the more you focus on making good comments.\n",
    "# Jupyter lets you write formatted text, but you'll still want to put comments in the raw python.\n",
    "\n",
    "# Assign some text (a string) to a variable\n",
    "some_text = 'This is the text.'\n",
    "\n",
    "# Assign some numbers to variables\n",
    "a = 5  # Here, we implicitly told python that a is an integer\n",
    "b = 4.6  # Here, we told python that b is a floating point number (a decimal)"
   ]
  },
  {
   "cell_type": "markdown",
   "metadata": {},
   "source": [
    "- Even though nothing is outputted above, our Python \"Kernel\" has the values to each variable stored for later use.\n",
    "\n",
    "### Important note: Python is not a \"typed\" language\n",
    "\n",
    "- Notice that above, we added an integer and the float (a floating point number, i.e., one with a decimal point). Python \"smartly\" redefines variables so that they work together.\n",
    "\n",
    "- This is different from other languages which require you to manually manage the \"types\" of your variables."
   ]
  },
  {
   "cell_type": "code",
   "execution_count": 2,
   "metadata": {},
   "outputs": [
    {
     "name": "stdout",
     "output_type": "stream",
     "text": [
      "Our output was 9.6\n"
     ]
    }
   ],
   "source": [
    "# Python as a calculator. \n",
    "sum_of_two_numbers = a + b\n",
    "\n",
    "# Printing output to the console\n",
    "print('Our output was', sum_of_two_numbers)"
   ]
  },
  {
   "cell_type": "markdown",
   "metadata": {},
   "source": [
    "- In the above, you'll notice the result was a float.\n",
    "- If needed, you can demand that python specify something as a certain type, as below."
   ]
  },
  {
   "cell_type": "code",
   "execution_count": 3,
   "metadata": {},
   "outputs": [
    {
     "name": "stdout",
     "output_type": "stream",
     "text": [
      "We lost some precision in this operation: 9.0\n"
     ]
    }
   ],
   "source": [
    "sum_as_int = int(sum_of_two_numbers)\n",
    "sum_as_int_back_to_float = float(sum_as_int)\n",
    "\n",
    "print('We lost some precision in this operation:', sum_as_int_back_to_float)"
   ]
  },
  {
   "cell_type": "markdown",
   "metadata": {},
   "source": [
    "## Other python types"
   ]
  },
  {
   "cell_type": "code",
   "execution_count": 4,
   "metadata": {},
   "outputs": [
    {
     "name": "stdout",
     "output_type": "stream",
     "text": [
      "list_1 [4, 5, 6]\n"
     ]
    }
   ],
   "source": [
    "# Reminder, this assumes you have setup an envioronment with conda using:\n",
    "list_1 = [4, 5, 6]\n",
    "print('list_1', list_1)\n"
   ]
  },
  {
   "cell_type": "code",
   "execution_count": 5,
   "metadata": {},
   "outputs": [
    {
     "name": "stdout",
     "output_type": "stream",
     "text": [
      "[[5, 3, 5], [6, 6, 5]]\n"
     ]
    }
   ],
   "source": [
    "# You can embed lists in lists in lists, etc.\n",
    "list_2 = [[5, 3, 5], [6, 6, 5]]\n",
    "print(list_2)\n"
   ]
  },
  {
   "cell_type": "code",
   "execution_count": 6,
   "metadata": {},
   "outputs": [
    {
     "name": "stdout",
     "output_type": "stream",
     "text": [
      "dictionary_1 {23: 'Favorite number', 24: 'Second favorite number'}\n"
     ]
    }
   ],
   "source": [
    "# Dictionaries\n",
    "dictionary_1 = {23: \"Favorite number\", 24: \"Second favorite number\"}\n",
    "print('dictionary_1', dictionary_1)\n",
    "\n",
    "# Here is a multi line string: (also discusses improved capabilities of an IDE editor)\n",
    "\n",
    "things_you_can_do_in_vs_code_that_you_cant_do_without_an_ide = \"\"\"\n",
    "1.) Move back and forth in your history of cursor positions (using your mouse forward and back buttons)\n",
    "2.) Edit on multiple lines at the same time (hold alt and click new spots)\n",
    "3.) Smartly paste DIFFERENT values\n",
    "4.) Duplicate lines (ctrl-d)\n",
    "5.) Introspection (e.g., jump between function definition and usages)\n",
    "6.) Debugging (Interactively walk through your code one line at a time)\n",
    "7.) Profiling your code (see which lines take the most time to compute.)\n",
    "8.) Keep track of a history of copy-paste items and paste from past copies. (ctrl-shift-v)\n",
    "\"\"\"\n"
   ]
  },
  {
   "cell_type": "markdown",
   "metadata": {},
   "source": [
    "## Looping"
   ]
  },
  {
   "cell_type": "code",
   "execution_count": 7,
   "metadata": {},
   "outputs": [
    {
     "name": "stdout",
     "output_type": "stream",
     "text": [
      "small_range: range(0, 10)\n",
      "small_range_as_list: [0, 1, 2, 3, 4, 5, 6, 7, 8, 9]\n",
      "mean 116.5\n"
     ]
    }
   ],
   "source": [
    "\n",
    "\n",
    "small_range = range(0, 10)\n",
    "print('small_range:', small_range)\n",
    "\n",
    "small_range_as_list = list(range(0, 10))\n",
    "print('small_range_as_list:', small_range_as_list)\n",
    "\n",
    "# Here is a for loop. Also note that python EXPLICITLY USES TAB-LEVEL to denote nested things.\n",
    "# I.e., the inner part of the loop is tabbed 1 level up. Python does not use { like  R.\n",
    "# I LOVE this notation and it's a big part of why python is so pretty and readable.\n",
    "sum = 0 # Set the initial variable values\n",
    "num = 0\n",
    "sum_with_some = 0\n",
    "for i in range(100, 136, 3):\n",
    "    sum = sum + i\n",
    "    num = num + 1\n",
    "\n",
    "    # loop within a loop\n",
    "    for j in range(200, 205):\n",
    "        sum_with_some = sum + j\n",
    "\n",
    "mean = sum / num\n",
    "print('mean', mean)\n"
   ]
  },
  {
   "cell_type": "markdown",
   "metadata": {},
   "source": [
    "\n",
    "## Defining functions"
   ]
  },
  {
   "cell_type": "code",
   "execution_count": 8,
   "metadata": {},
   "outputs": [
    {
     "name": "stdout",
     "output_type": "stream",
     "text": [
      "14\n"
     ]
    }
   ],
   "source": [
    "# Functions\n",
    "def my_function(input_parameter_1, input_parameter_2):\n",
    "    product = input_parameter_1 * input_parameter_2\n",
    "    return product\n",
    "\n",
    "# Use the function\n",
    "value_returned = my_function(2, 7)\n",
    "print(value_returned)"
   ]
  },
  {
   "cell_type": "code",
   "execution_count": 9,
   "metadata": {},
   "outputs": [],
   "source": [
    "# In-class exercise workspace"
   ]
  },
  {
   "cell_type": "markdown",
   "metadata": {},
   "source": [
    "## Importing packages"
   ]
  },
  {
   "cell_type": "code",
   "execution_count": 10,
   "metadata": {},
   "outputs": [
    {
     "name": "stdout",
     "output_type": "stream",
     "text": [
      "9\n"
     ]
    }
   ],
   "source": [
    "\n",
    "# Built-in packages via the Python Standard Library\n",
    "import math\n",
    "import os, sys, time, random\n",
    "\n",
    "# Using imported modules\n",
    "number_rounded_down = math.floor(sum_of_two_numbers)\n",
    "print(number_rounded_down)\n"
   ]
  },
  {
   "cell_type": "markdown",
   "metadata": {},
   "source": [
    "## Using packages from elsewhere\n",
    "\n",
    "When we used Mambaforge, we installed a ton of packages. These were not \"built-in\" to python like the ones above. Here we will import them into our notebook to use.\n",
    "\n",
    "This will also illustrate the use of numpy. We'll use it so much we us the ```as``` code to name it something shorter."
   ]
  },
  {
   "cell_type": "code",
   "execution_count": 11,
   "metadata": {},
   "outputs": [
    {
     "name": "stdout",
     "output_type": "stream",
     "text": [
      "Here's a small numpy array\n",
      " [[5 3 5]\n",
      " [6 6 5]]\n"
     ]
    }
   ],
   "source": [
    "import numpy as np # The as just defines a shorter name\n",
    "\n",
    "# Create an 2 by 3 array of integers\n",
    "small_array = np.array([[5, 3, 5], [6, 6, 5]])\n",
    "\n",
    "print('Here\\'s a small numpy array\\n', small_array)\n",
    "\n",
    "# Sidenote: from above backspace \\ put in front of a character is the\n",
    "# \"escapce character,\" which makes python interpret the next thing as a string or special text operator. \\n makes a line break"
   ]
  },
  {
   "cell_type": "markdown",
   "metadata": {},
   "source": [
    "## Discussion point\n",
    "\n",
    "The array above looks identical to the nested lists we made. It IS NOT! It is a numpy array that is ridiculously fast and can scale up to massive, massive data questions. The optional reading for today (Harris et al. 2020, Nature) discusses how these arrays have formed the backbone of modern scientific computing."
   ]
  },
  {
   "cell_type": "code",
   "execution_count": 12,
   "metadata": {},
   "outputs": [
    {
     "name": "stdout",
     "output_type": "stream",
     "text": [
      "Here's a slightly larger numpy array\n",
      " [[4 7 3 ... 3 6 6]\n",
      " [7 6 4 ... 4 7 7]\n",
      " [5 6 3 ... 5 6 3]\n",
      " ...\n",
      " [4 3 7 ... 4 3 3]\n",
      " [7 4 4 ... 3 6 6]\n",
      " [4 5 4 ... 4 3 5]]\n"
     ]
    }
   ],
   "source": [
    "low = 3\n",
    "high = 8\n",
    "shape = (1000, 1000)\n",
    "\n",
    "smallish_random_array = np.random.randint(low, high, shape)\n",
    "\n",
    "print('Here\\'s a slightly larger numpy array\\n', smallish_random_array)\n"
   ]
  },
  {
   "cell_type": "markdown",
   "metadata": {},
   "source": [
    "## In-class exercise 2.1 \n",
    "\n",
    "Participation points note! I will call on a random table to show me their answer via their table's monitor.\n",
    "\n",
    "Make a function that returns the square of a number. Combine the function  with a loop to calculate the Sum of Squared Numbers from 1 to 100.\n",
    "\n",
    "HINT, ** is the exponent operator in python.\n",
    "\n",
    "BONUS: Make sure you're actually right by inserting a print statement in each step.\n",
    "\n",
    "BONUS-bonus: Store each stage of the results in a list using \n",
    "```your_list = []``` and ```your_list.append(thing_to_add_to_your_list)```"
   ]
  }
 ],
 "metadata": {
  "kernelspec": {
   "display_name": "Python 3.10.6 ('8222env1')",
   "language": "python",
   "name": "python3"
  },
  "language_info": {
   "codemirror_mode": {
    "name": "ipython",
    "version": 3
   },
   "file_extension": ".py",
   "mimetype": "text/x-python",
   "name": "python",
   "nbconvert_exporter": "python",
   "pygments_lexer": "ipython3",
   "version": "3.10.8 | packaged by conda-forge | (main, Nov 22 2022, 08:16:33) [MSC v.1929 64 bit (AMD64)]"
  },
  "vscode": {
   "interpreter": {
    "hash": "0db313e0ad7b6749a6d098fb61fddaded88cbd823278030b75fa0893942c8f77"
   }
  }
 },
 "nbformat": 4,
 "nbformat_minor": 2
}
